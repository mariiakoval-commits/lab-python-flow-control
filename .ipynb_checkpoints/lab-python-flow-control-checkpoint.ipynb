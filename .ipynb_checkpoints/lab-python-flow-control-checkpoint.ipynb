{
 "cells": [
  {
   "cell_type": "markdown",
   "id": "d3bfc191-8885-42ee-b0a0-bbab867c6f9f",
   "metadata": {
    "tags": []
   },
   "source": [
    "# Lab | Flow Control"
   ]
  },
  {
   "cell_type": "markdown",
   "id": "3851fcd1-cf98-4653-9c89-e003b7ec9400",
   "metadata": {},
   "source": [
    "## Exercise: Managing Customer Orders Optimized\n",
    "\n",
    "In the last lab, you were starting an online store that sells various products. To ensure smooth operations, you developed a program that manages customer orders and inventory.\n",
    "\n",
    "You did so without using flow control. Let's go a step further and improve this code.\n",
    "\n",
    "Follow the steps below to complete the exercise:\n",
    "\n",
    "1. Look at your code from the lab data structures, and improve repeated code with loops.\n",
    "\n",
    "2. Instead of asking the user to input the name of three products that a customer wants to order, do the following:\n",
    "    \n",
    "    a. Prompt the user to enter the name of a product that a customer wants to order.\n",
    "    \n",
    "    b. Add the product name to the \"customer_orders\" set.\n",
    "    \n",
    "    c. Ask the user if they want to add another product (yes/no).\n",
    "    \n",
    "    d. Continue the loop until the user does not want to add another product.\n",
    "\n",
    "3. Instead of updating the inventory by subtracting 1 from the quantity of each product, only do it for  the products that were ordered (those in \"customer_orders\")."
   ]
  },
  {
   "cell_type": "code",
   "execution_count": 51,
   "id": "a56243d4-730b-46ea-8d10-255a13ff444a",
   "metadata": {},
   "outputs": [
    {
     "name": "stdin",
     "output_type": "stream",
     "text": [
      "Please enter the quantity of a product avalible: t-shirt 8\n",
      "Please enter the quantity of a product avalible: mug 9\n",
      "Please enter the quantity of a product avalible: hat 5\n",
      "Please enter the quantity of a product avalible: book 6\n",
      "Please enter the quantity of a product avalible: keychain 2\n"
     ]
    },
    {
     "name": "stdout",
     "output_type": "stream",
     "text": [
      "Inventory:\n",
      "t-shirt: 8\n",
      "mug: 9\n",
      "hat: 5\n",
      "book: 6\n",
      "keychain: 2\n"
     ]
    },
    {
     "name": "stdin",
     "output_type": "stream",
     "text": [
      "Please enter the name of the product from the list that you want to order : ['t-shirt', 'mug', 'hat', 'book', 'keychain'] mug\n",
      "Do you want to add another product? Enter 'yes' or 'no' yes\n",
      "Please enter the name of the product from the list that you want to order : ['t-shirt', 'mug', 'hat', 'book', 'keychain'] hat\n",
      "Do you want to add another product? Enter 'yes' or 'no' yes\n",
      "Please enter the name of the product from the list that you want to order : ['t-shirt', 'mug', 'hat', 'book', 'keychain'] book\n",
      "Do you want to add another product? Enter 'yes' or 'no' no\n"
     ]
    },
    {
     "name": "stdout",
     "output_type": "stream",
     "text": [
      "Customer orders: {'hat', 'book', 'mug'}\n",
      "Order Statistics:\n",
      "Total Products Ordered: 3\n",
      "Percentage of Products Ordered: 10.0 %\n",
      "Inventory apdeted:\n",
      "t-shirt: 8\n",
      "mug: 8\n",
      "hat: 4\n",
      "book: 5\n",
      "keychain: 2\n"
     ]
    }
   ],
   "source": [
    "products = [ \"t-shirt\", \"mug\", \"hat\", \"book\", \"keychain\"]\n",
    "inventory = {}\n",
    "for product in products:\n",
    "    pr_q = int(input(f\"Please enter the quantity of a product avalible: {product}\"))\n",
    "    inventory[product] = pr_q\n",
    "\n",
    "print(\"Inventory:\")\n",
    "\n",
    "for product, pr_q in inventory.items():\n",
    "        print (f\"{product}: {pr_q}\")\n",
    "\n",
    "customer_orders = set()\n",
    "\n",
    "pr = (input(f\"Please enter the name of the product from the list that you want to order : {products}\"))\n",
    "\n",
    "if pr in products:\n",
    "        customer_orders.add(pr)    \n",
    "else:\n",
    "         print(\"This product is not available. Please choose from the list.\")\n",
    "            \n",
    "u_q = input(\"Do you want to add another product? Enter 'yes' or 'no'\")\n",
    "\n",
    "while u_q == 'yes':\n",
    "      pr = input(f\"Please enter the name of the product from the list that you want to order : {products}\")\n",
    "      u_q = input(\"Do you want to add another product? Enter 'yes' or 'no'\")\n",
    "      if pr in products:\n",
    "        customer_orders.add(pr)\n",
    "      else:\n",
    "        print(\"This product is not available. Please choose from the list.\")\n",
    "          \n",
    "print(f\"Customer orders: {customer_orders}\")      \n",
    "\n",
    "tpo = int(len(customer_orders))\n",
    "sum_inv = int(sum(inventory.values()))\n",
    "ppo = (tpo/sum_inv)*100\n",
    "order_status = (tpo, ppo)\n",
    "\n",
    "print(\"Order Statistics:\")\n",
    "print(f\"Total Products Ordered: {tpo}\")\n",
    "print(f\"Percentage of Products Ordered: {ppo} %\")\n",
    "\n",
    "\n",
    "for product in customer_orders:\n",
    "    if product in inventory:\n",
    "       inventory[product] -=1\n",
    "    \n",
    "print(\"Inventory apdeted:\")\n",
    "\n",
    "for product, pr_q in inventory.items():\n",
    "        print (f\"{product}: {pr_q}\")"
   ]
  },
  {
   "cell_type": "code",
   "execution_count": null,
   "id": "9d2ded1f-7edb-44fb-84b6-e7065476c87e",
   "metadata": {},
   "outputs": [],
   "source": []
  }
 ],
 "metadata": {
  "kernelspec": {
   "display_name": "Python 3 (ipykernel)",
   "language": "python",
   "name": "python3"
  },
  "language_info": {
   "codemirror_mode": {
    "name": "ipython",
    "version": 3
   },
   "file_extension": ".py",
   "mimetype": "text/x-python",
   "name": "python",
   "nbconvert_exporter": "python",
   "pygments_lexer": "ipython3",
   "version": "3.12.3"
  }
 },
 "nbformat": 4,
 "nbformat_minor": 5
}
